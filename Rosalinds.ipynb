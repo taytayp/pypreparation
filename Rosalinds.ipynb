{
 "cells": [
  {
   "cell_type": "markdown",
   "id": "3cc96e03",
   "metadata": {},
   "source": [
    "Pairs of rabbits are taking over Australia. They start as one juvenile pair, take one month to grow to maturity, and then reproduce into a younger pair.  \n",
    "\n",
    "Pairs may live for _m_ months and will produce a pair of young each month they live as an adults. Find out how many rabbit pairs are extant after _n_ months of activity."
   ]
  },
  {
   "cell_type": "markdown",
   "id": "5be978c8",
   "metadata": {},
   "source": [
    "### Solution\n",
    "Create a rabbit object that can reproduce and create more objects?  \n",
    "Or perhaps just a function that will operate recursively with a while loop.\n",
    "    - Rabbit 1 is born\n",
    "    - Tick loop once, rabbit can reproduce\n",
    "    - Rabbit 1 calls rabbit()\n",
    "\n",
    "For a _m_=3 month lifespan, **4** rabbit pairs will remain after _n_=6 months."
   ]
  },
  {
   "cell_type": "code",
   "execution_count": 8,
   "id": "0c167075",
   "metadata": {
    "ExecuteTime": {
     "end_time": "2023-01-12T21:47:31.046399Z",
     "start_time": "2023-01-12T21:47:31.027836Z"
    }
   },
   "outputs": [
    {
     "name": "stdout",
     "output_type": "stream",
     "text": [
      "Year 0, rabbits: [0-year-old rabbit]\n",
      "Year 1, rabbits: [1-year-old rabbit, 0-year-old rabbit]\n",
      "Year 2, rabbits: [2-year-old rabbit, 1-year-old rabbit, 0-year-old rabbit, 0-year-old rabbit]\n",
      "Year 3, rabbits: [3-year-old rabbit, 2-year-old rabbit, 1-year-old rabbit, 1-year-old rabbit, 0-year-old rabbit, 0-year-old rabbit, 0-year-old rabbit, 0-year-old rabbit]\n",
      "Year 4, rabbits: [3-year-old rabbit, 2-year-old rabbit, 2-year-old rabbit, 1-year-old rabbit, 1-year-old rabbit, 1-year-old rabbit, 1-year-old rabbit, 0-year-old rabbit, 0-year-old rabbit, 0-year-old rabbit, 0-year-old rabbit, 0-year-old rabbit, 0-year-old rabbit, 0-year-old rabbit]\n",
      "Year 5, rabbits: [3-year-old rabbit, 3-year-old rabbit, 2-year-old rabbit, 2-year-old rabbit, 2-year-old rabbit, 2-year-old rabbit, 1-year-old rabbit, 1-year-old rabbit, 1-year-old rabbit, 1-year-old rabbit, 1-year-old rabbit, 1-year-old rabbit, 1-year-old rabbit, 0-year-old rabbit, 0-year-old rabbit, 0-year-old rabbit, 0-year-old rabbit, 0-year-old rabbit, 0-year-old rabbit, 0-year-old rabbit, 0-year-old rabbit, 0-year-old rabbit, 0-year-old rabbit, 0-year-old rabbit, 0-year-old rabbit, 0-year-old rabbit]\n"
     ]
    },
    {
     "data": {
      "text/plain": [
       "[4-year-old rabbit,\n",
       " 3-year-old rabbit,\n",
       " 3-year-old rabbit,\n",
       " 3-year-old rabbit,\n",
       " 3-year-old rabbit,\n",
       " 2-year-old rabbit,\n",
       " 2-year-old rabbit,\n",
       " 2-year-old rabbit,\n",
       " 2-year-old rabbit,\n",
       " 2-year-old rabbit,\n",
       " 2-year-old rabbit,\n",
       " 2-year-old rabbit,\n",
       " 1-year-old rabbit,\n",
       " 1-year-old rabbit,\n",
       " 1-year-old rabbit,\n",
       " 1-year-old rabbit,\n",
       " 1-year-old rabbit,\n",
       " 1-year-old rabbit,\n",
       " 1-year-old rabbit,\n",
       " 1-year-old rabbit,\n",
       " 1-year-old rabbit,\n",
       " 1-year-old rabbit,\n",
       " 1-year-old rabbit,\n",
       " 1-year-old rabbit,\n",
       " 1-year-old rabbit,\n",
       " 0-year-old rabbit,\n",
       " 0-year-old rabbit,\n",
       " 0-year-old rabbit,\n",
       " 0-year-old rabbit,\n",
       " 0-year-old rabbit,\n",
       " 0-year-old rabbit,\n",
       " 0-year-old rabbit,\n",
       " 0-year-old rabbit,\n",
       " 0-year-old rabbit,\n",
       " 0-year-old rabbit,\n",
       " 0-year-old rabbit,\n",
       " 0-year-old rabbit,\n",
       " 0-year-old rabbit,\n",
       " 0-year-old rabbit,\n",
       " 0-year-old rabbit,\n",
       " 0-year-old rabbit,\n",
       " 0-year-old rabbit,\n",
       " 0-year-old rabbit,\n",
       " 0-year-old rabbit,\n",
       " 0-year-old rabbit,\n",
       " 0-year-old rabbit,\n",
       " 0-year-old rabbit,\n",
       " 0-year-old rabbit,\n",
       " 0-year-old rabbit,\n",
       " 0-year-old rabbit]"
      ]
     },
     "execution_count": 8,
     "metadata": {},
     "output_type": "execute_result"
    }
   ],
   "source": [
    "class Rabbit():\n",
    "    def __init__(self, lifespan, age=0):\n",
    "        self.age = age\n",
    "        self.lifespan = lifespan\n",
    "        \n",
    "    def reproduce(self, population):\n",
    "        if self.age > 0:\n",
    "            population.append(Rabbit(self.lifespan))\n",
    "        return population\n",
    "    \n",
    "    def age_up(self):\n",
    "        self.age += 1\n",
    "    \n",
    "    def __repr__(self):\n",
    "        return(f\"{self.age}-year-old rabbit\")\n",
    "    \n",
    "    def __str__(self):\n",
    "        return self.__repr__()\n",
    "        \n",
    "n = 6\n",
    "m = 3\n",
    "\n",
    "\n",
    "pop = [Rabbit(m)]\n",
    "for year in range(n):\n",
    "    print(f'Year {year}, rabbits: {pop}')\n",
    "    for rabbit in pop:\n",
    "        rabbit.age_up()\n",
    "    for rabbit in pop:\n",
    "        rabbit.reproduce(pop)\n",
    "        if rabbit.age > rabbit.lifespan:\n",
    "            pop.remove(rabbit)\n",
    "pop"
   ]
  },
  {
   "cell_type": "code",
   "execution_count": null,
   "id": "5cd7018e",
   "metadata": {},
   "outputs": [],
   "source": [
    "with open(\"rosalind_fibd_1_dataset.txt\", \"r\") as file:\n",
    "    rabbit(*file.readline().split())"
   ]
  }
 ],
 "metadata": {
  "kernelspec": {
   "display_name": "Python 3 (ipykernel)",
   "language": "python",
   "name": "python3"
  },
  "language_info": {
   "codemirror_mode": {
    "name": "ipython",
    "version": 3
   },
   "file_extension": ".py",
   "mimetype": "text/x-python",
   "name": "python",
   "nbconvert_exporter": "python",
   "pygments_lexer": "ipython3",
   "version": "3.8.10"
  }
 },
 "nbformat": 4,
 "nbformat_minor": 5
}
