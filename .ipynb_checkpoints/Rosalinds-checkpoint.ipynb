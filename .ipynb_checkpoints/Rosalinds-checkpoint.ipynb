{
 "cells": [
  {
   "cell_type": "markdown",
   "id": "3cc96e03",
   "metadata": {},
   "source": [
    "Pairs of rabbits are taking over Australia. They start as one juvenile pair, take one month to grow to maturity, and then reproduce into a younger pair.  \n",
    "\n",
    "Pairs may live for _m_ months and will produce a pair of young each month they live as an adults. Find out how many rabbit pairs are extant after _n_ months of activity."
   ]
  },
  {
   "cell_type": "markdown",
   "id": "5be978c8",
   "metadata": {},
   "source": [
    "### Solution\n",
    "Create a rabbit object that can reproduce and create more objects?  \n",
    "Or perhaps just a function that will operate recursively with a while loop.\n",
    "    - Rabbit 1 is born\n",
    "    - Tick loop once, rabbit can reproduce\n",
    "    - Rabbit 1 calls rabbit()\n",
    "\n",
    "For a _m_=3 month lifespan, **4** rabbit pairs will remain after _n_=6 months."
   ]
  },
  {
   "cell_type": "code",
   "execution_count": 16,
   "id": "0c167075",
   "metadata": {
    "ExecuteTime": {
     "end_time": "2023-01-12T21:47:31.046399Z",
     "start_time": "2023-01-12T21:47:31.027836Z"
    }
   },
   "outputs": [],
   "source": [
    "class Rabbit():\n",
    "    def __init__(self, lifespan, age=1):\n",
    "        self.age = age\n",
    "        self.lifespan = lifespan\n",
    "        \n",
    "    def reproduce(self, population):\n",
    "        if self.age > 1:\n",
    "            population.append(Rabbit(self.lifespan))\n",
    "        return population\n",
    "    \n",
    "    def age_up(self):\n",
    "        self.age += 1\n",
    "    \n",
    "    def __repr__(self):\n",
    "        return(f\"{self.age}-month-old rabbit\")\n",
    "    \n",
    "    def __str__(self):\n",
    "        return self.__repr__()\n",
    "        \n",
    "n = 6\n",
    "m = 3\n",
    "\n",
    "def mortal_rabbits(n, m):\n",
    "    \"\"\"n is the number of months to study, m is the lifespan of rabbits in months\"\"\"\n",
    "    oldpop = [Rabbit(m)]\n",
    "    for month in range(1, n):\n",
    "        print(f'month {month}')\n",
    "        newpop = []\n",
    "        #print(f'Month {month}, rabbits: {oldpop}')\n",
    "        for rabbit in oldpop:\n",
    "            newpop = rabbit.reproduce(newpop)\n",
    "            rabbit.age_up()\n",
    "            if rabbit.age <= rabbit.lifespan:\n",
    "                newpop.append(rabbit)\n",
    "        oldpop = newpop\n",
    "    return(len(newpop))"
   ]
  },
  {
   "cell_type": "code",
   "execution_count": 4,
   "id": "5cd7018e",
   "metadata": {},
   "outputs": [
    {
     "name": "stderr",
     "output_type": "stream",
     "text": [
      "IOPub data rate exceeded.\n",
      "The notebook server will temporarily stop sending output\n",
      "to the client in order to avoid crashing it.\n",
      "To change this limit, set the config variable\n",
      "`--NotebookApp.iopub_data_rate_limit`.\n",
      "\n",
      "Current values:\n",
      "NotebookApp.iopub_data_rate_limit=1000000.0 (bytes/sec)\n",
      "NotebookApp.rate_limit_window=3.0 (secs)\n",
      "\n"
     ]
    }
   ],
   "source": [
    "print(mortal_rabbits(89, 18))\n",
    "\n",
    "with open(\"rosalind_fibd_1_dataset.txt\", \"r\") as file:\n",
    "    line = file.readline().split()\n",
    "    res = [eval(i) for i in line]\n",
    "    print(res)\n",
    "    #mortal_rabbits(res[0], res[1])"
   ]
  },
  {
   "cell_type": "markdown",
   "id": "74dbd3ef",
   "metadata": {},
   "source": [
    "Time for a recursive function instead. Call itself _m_ times for lifespan? Or track _m_ through returns."
   ]
  },
  {
   "cell_type": "code",
   "execution_count": null,
   "id": "51be71a3",
   "metadata": {},
   "outputs": [],
   "source": [
    "def recurbits(age, num=1, ):\n",
    "    print(f\"I am {age} months old.\")\n",
    "    "
   ]
  }
 ],
 "metadata": {
  "kernelspec": {
   "display_name": "Python 3 (ipykernel)",
   "language": "python",
   "name": "python3"
  },
  "language_info": {
   "codemirror_mode": {
    "name": "ipython",
    "version": 3
   },
   "file_extension": ".py",
   "mimetype": "text/x-python",
   "name": "python",
   "nbconvert_exporter": "python",
   "pygments_lexer": "ipython3",
   "version": "3.9.13"
  }
 },
 "nbformat": 4,
 "nbformat_minor": 5
}
